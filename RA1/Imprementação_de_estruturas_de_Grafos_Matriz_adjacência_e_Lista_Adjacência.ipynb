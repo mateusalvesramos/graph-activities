{
  "nbformat": 4,
  "nbformat_minor": 0,
  "metadata": {
    "colab": {
      "provenance": [],
      "authorship_tag": "ABX9TyNZ8c7xNOJQ/hQ7iGad+vwW",
      "include_colab_link": true
    },
    "kernelspec": {
      "name": "python3",
      "display_name": "Python 3"
    },
    "language_info": {
      "name": "python"
    }
  },
  "cells": [
    {
      "cell_type": "markdown",
      "metadata": {
        "id": "view-in-github",
        "colab_type": "text"
      },
      "source": [
        "<a href=\"https://colab.research.google.com/github/mateusalvesramos/graph-activities/blob/main/RA1/Imprementa%C3%A7%C3%A3o_de_estruturas_de_Grafos_Matriz_adjac%C3%AAncia_e_Lista_Adjac%C3%AAncia.ipynb\" target=\"_parent\"><img src=\"https://colab.research.google.com/assets/colab-badge.svg\" alt=\"Open In Colab\"/></a>"
      ]
    },
    {
      "cell_type": "markdown",
      "source": [
        "## Imprementação de estruturas de Grafos: Matriz adjacência e Lista Adjacência"
      ],
      "metadata": {
        "id": "eA6cz2xq4Y8v"
      }
    },
    {
      "cell_type": "code",
      "execution_count": null,
      "metadata": {
        "id": "baP44si84Vsi"
      },
      "outputs": [],
      "source": [
        "# Matriz Adjacência (grafo direcionado e ponderado com N vértices)\n",
        "import numpy as np"
      ]
    },
    {
      "cell_type": "code",
      "source": [
        "class Grafo:\n",
        "  # Construtor da classe com os atributos solicitados\n",
        "  def __init__(self, n_vertices):\n",
        "    self.ordem = n_vertices # Ordem = número de vértices (nodes)\n",
        "    self.tamanho = 0 # Quantidade de arestas (edges)\n",
        "    # Cria uma matriz com vários uma matriz toda preenchida com uns. No final\n",
        "    # multiplicamos por infinito, fazendo com que todos os uns virem infinito\n",
        "    self.matriz_adjacencia = np.ones((self.ordem, self.ordem)) * np.inf\n",
        "\n",
        "  def __str__(self):\n",
        "    return self.imprime_matriz()\n",
        "\n",
        "  def imprime_matriz(self):\n",
        "    print(\"Matriz de Adjacências:\")\n",
        "    for i in range(self.ordem):\n",
        "      print(f\"{i}: {self.matriz_adjacencia[i]}\")\n",
        "    return \"\"\n",
        "\n",
        "  def tem_aresta(self, u, v):\n",
        "    if self.matriz_adjacencia[u, v] == np.inf:\n",
        "      return False\n",
        "    else:\n",
        "      return True\n",
        "\n",
        "  # Também atualiza o peso de arestas já existentes\n",
        "  def adiciona_aresta(self, u, v, peso):\n",
        "    if u > self.ordem-1 or v > self.ordem-1:\n",
        "      print(\"A posição do vértice u ou v é inválida. Aresta não incluída.\")\n",
        "    else: # Só incrementa o tamanho do grafo caso a aresta não exista\n",
        "      if not self.tem_aresta(u, v):\n",
        "        self.tamanho += 1\n",
        "      self.matriz_adjacencia[u, v] = peso\n",
        "\n",
        "  def remove_aresta(self, u, v):\n",
        "    if self.tem_aresta(u, v):\n",
        "      self.matriz_adjacencia[u, v] = np.inf\n",
        "      self.tamanho -= 1\n",
        "    else:\n",
        "      print(\"Aresta não existe.\")\n",
        "\n",
        "  def grau_entrada(self, u): # Percorre a matriz na vertical (todas as linhas de u)\n",
        "      grau_entrada = 0\n",
        "      for i in range(self.ordem):\n",
        "        if self.tem_aresta(i, u):\n",
        "          grau_entrada +=1\n",
        "      return grau_entrada\n",
        "\n",
        "  def grau_saida(self, u): # Percorre a matriz na horizontal (todas as colunas de u)\n",
        "      grau_saida = 0\n",
        "      for i in range(self.ordem):\n",
        "        if self.tem_aresta(u, i):\n",
        "          grau_saida += 1\n",
        "        return grau_saida\n",
        "\n",
        "  def grau(self, u):\n",
        "      grau = 0\n",
        "      for i in range(self.ordem):\n",
        "        if self.tem_aresta(u, i):\n",
        "          grau += 1\n",
        "        if self.tem_aresta(i, u):\n",
        "          grau += 1\n",
        "      return grau\n",
        "\n",
        "    # O grafo será considerado denso se possuir uma qtde de arestas > 90% da qtde max de arestas\n",
        "  def eh_denso(self):\n",
        "      if self.tamanho > self.get_max_arestas() * 0.9:\n",
        "        return True\n",
        "      else:\n",
        "        return False\n",
        "\n",
        "  def get_max_arestas(self):\n",
        "      return np.power(self.ordem, 2) - self.ordem\n"
      ],
      "metadata": {
        "id": "qXdpStjX5MCa"
      },
      "execution_count": null,
      "outputs": []
    },
    {
      "cell_type": "code",
      "source": [
        "G = Grafo(5)\n",
        "G.adiciona_aresta(0, 1, 10)\n",
        "G.adiciona_aresta(0, 3, 33)\n",
        "G.adiciona_aresta(1, 2, 5)\n",
        "# print(G)\n",
        "G.adiciona_aresta(1, 2, 10)\n",
        "print(G)\n",
        "# G.remove_aresta(1, 2)\n",
        "print(G)\n",
        "print(G.grau(1))\n",
        "print(G.eh_denso())\n"
      ],
      "metadata": {
        "colab": {
          "base_uri": "https://localhost:8080/"
        },
        "id": "A_2uCKv66gxY",
        "outputId": "3e8749be-1cbf-4ba6-a0b4-e1e8fed2c13c"
      },
      "execution_count": null,
      "outputs": [
        {
          "output_type": "stream",
          "name": "stdout",
          "text": [
            "Matriz de Adjacências:\n",
            "0: [inf 10. inf 33. inf]\n",
            "1: [inf inf 10. inf inf]\n",
            "2: [inf inf inf inf inf]\n",
            "3: [inf inf inf inf inf]\n",
            "4: [inf inf inf inf inf]\n",
            "\n",
            "Matriz de Adjacências:\n",
            "0: [inf 10. inf 33. inf]\n",
            "1: [inf inf 10. inf inf]\n",
            "2: [inf inf inf inf inf]\n",
            "3: [inf inf inf inf inf]\n",
            "4: [inf inf inf inf inf]\n",
            "\n",
            "2\n",
            "False\n"
          ]
        }
      ]
    }
  ]
}