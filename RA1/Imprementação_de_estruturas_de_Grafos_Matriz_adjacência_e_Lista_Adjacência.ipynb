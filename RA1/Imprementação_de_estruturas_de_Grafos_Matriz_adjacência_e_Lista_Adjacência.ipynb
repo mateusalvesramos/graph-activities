{
  "nbformat": 4,
  "nbformat_minor": 0,
  "metadata": {
    "colab": {
      "provenance": [],
      "authorship_tag": "ABX9TyP/PnE3Fkc6auF9jqzLU5el",
      "include_colab_link": true
    },
    "kernelspec": {
      "name": "python3",
      "display_name": "Python 3"
    },
    "language_info": {
      "name": "python"
    }
  },
  "cells": [
    {
      "cell_type": "markdown",
      "metadata": {
        "id": "view-in-github",
        "colab_type": "text"
      },
      "source": [
        "<a href=\"https://colab.research.google.com/github/mateusalvesramos/graph-activities/blob/main/RA1/Imprementa%C3%A7%C3%A3o_de_estruturas_de_Grafos_Matriz_adjac%C3%AAncia_e_Lista_Adjac%C3%AAncia.ipynb\" target=\"_parent\"><img src=\"https://colab.research.google.com/assets/colab-badge.svg\" alt=\"Open In Colab\"/></a>"
      ]
    },
    {
      "cell_type": "markdown",
      "source": [
        "## Imprementação de estruturas de Grafos: Matriz adjacência e Lista Adjacência."
      ],
      "metadata": {
        "id": "eA6cz2xq4Y8v"
      }
    },
    {
      "cell_type": "code",
      "execution_count": 26,
      "metadata": {
        "id": "baP44si84Vsi"
      },
      "outputs": [],
      "source": [
        "# Matriz Adjacência (grafo direcionado e ponderado com N vértices)\n",
        "import numpy as np"
      ]
    },
    {
      "cell_type": "code",
      "source": [
        "class Grafo:\n",
        "  # Construtor da classe com os atributos solicitados.\n",
        "  def __init__(self, n_vertices):\n",
        "    self.ordem = n_vertices # Ordem = número de vértices (nodes).\n",
        "    self.tamanho = 0 # Quantidade de arestas (edges).\n",
        "    # Cria uma matriz toda preenchida com uns. No final multiplicamos\n",
        "    # por infinito, fazendo com que todos os uns virem infinito.\n",
        "    self.matriz_adjacencia = np.ones((self.ordem, self.ordem)) * np.inf\n",
        "\n",
        "  # Modificando o método __str__ do Python, para imprimir o grafo corretamente.\n",
        "  def __str__(self):\n",
        "    return self.imprime_matriz()\n",
        "\n",
        "  def imprime_matriz(self):\n",
        "    print(\"Matriz de Adjacências:\")\n",
        "    # Percorre o grafo de acordo com a quantidade de vértices (ordem) e imprime\n",
        "    # a lista de cada linha da matriz com a identificação do vértica á\n",
        "    # esquerda.\n",
        "    for i in range(self.ordem):\n",
        "      print(f\"{i}: {self.matriz_adjacencia[i]}\")\n",
        "    return \"\"\n",
        "\n",
        "  # Método para verificar se há uma aresta em determinado vértice.\n",
        "  # É passado os vértices no qual você quer verificar a existência de aresta.\n",
        "  def tem_aresta(self, u, v):\n",
        "    # Verificando se na intersecção entre os vértices há um inf ou um valor\n",
        "    # (peso), no caso do grafo ponderado. Caso tenha um inf, não há aresta\n",
        "    #(False). Caso tenha, tem aresta (True).\n",
        "    # Forma de acessar array bidimensional no NumPy.\n",
        "    # Poderia ser self.matriz_adjacencia[u][v] também.\n",
        "    if self.matriz_adjacencia[u, v] == np.inf:\n",
        "      return False\n",
        "    else:\n",
        "      return True\n",
        "\n",
        "  # É passado como parâmetro os dois vétices que você deseja relacionar\n",
        "  # (criar aresta). A ordem importa!\n",
        "  # Também atualiza o peso de arestas já existentes.\n",
        "  def adiciona_aresta(self, u, v, peso):\n",
        "    # Verificar se não está sendo passado um vértice maior do que os existentes.\n",
        "    if u > self.ordem - 1 or v > self.ordem - 1:\n",
        "      print(\"A posição do vértice u ou v é inválida. Aresta não incluída.\")\n",
        "    # Caso de vértice válido.\n",
        "    else: # Só incrementa o tamanho (nº de arestas) do grafo caso a aresta não\n",
        "    # exista.\n",
        "      if not self.tem_aresta(u, v):\n",
        "        self.tamanho += 1\n",
        "      # Atualiza o valor da matriz na posição u, v para o peso passado como\n",
        "      # parâmetro.\n",
        "      self.matriz_adjacencia[u, v] = peso\n",
        "\n",
        "  def remove_aresta(self, u, v):\n",
        "    # Verifica se realmente existe uma aresta entre estas duas vértices.\n",
        "    if self.tem_aresta(u, v):\n",
        "      # Substitui o peso por infinito (sem aresta), além de descrementar uma\n",
        "      # aresta do nº de arestas (tamanho).\n",
        "      self.matriz_adjacencia[u, v] = np.inf\n",
        "      self.tamanho -= 1\n",
        "    else:\n",
        "      print(\"Aresta não existe.\")\n",
        "\n",
        "  # Método que retorna o grau de entrada (quantidade de arestas de entrada) em\n",
        "  # determinado vértice.\n",
        "  def grau_entrada(self, u):\n",
        "    grau_entrada = 0\n",
        "    # Percorre a matriz na vertical (todas as linhas de u). Pega a coluna do\n",
        "    # vértice u e percorre as linhas.\n",
        "    for i in range(self.ordem):\n",
        "      # Verifica se tem aresta entre estes vértices. Caso tenha, incrementa\n",
        "      # a variável utilizada para contar o grau de entrada.\n",
        "      if self.tem_aresta(i, u):\n",
        "        grau_entrada += 1\n",
        "    # Retorna o valor total.\n",
        "    return grau_entrada\n",
        "\n",
        "  def grau_saida(self, u):\n",
        "    grau_saida = 0\n",
        "    # Percorre a matriz na horizontal (todas as colunas de u). Pega a linha\n",
        "    # do vértice u e percorre as colunas.\n",
        "    for i in range(self.ordem):\n",
        "      if self.tem_aresta(u, i):\n",
        "        grau_saida += 1\n",
        "    return grau_saida\n",
        "\n",
        "  # Poderíamos até somas os dois métodos acima, mas isso ocasionaria em dois\n",
        "  # laços \"for\", aumentando a complexidade do nosso algoritmo. Neste caso,\n",
        "  # utilizamos apenas um laço \"for\", fazendo a verificação \"simultânea\" de\n",
        "  # linha e colunas em busca de arestas.\n",
        "  def grau(self, u):\n",
        "    grau = 0\n",
        "    for i in range(self.ordem):\n",
        "      if self.tem_aresta(u, i):\n",
        "        grau += 1\n",
        "      if self.tem_aresta(i, u):\n",
        "        grau += 1\n",
        "    return grau\n",
        "\n",
        "    # O grafo será considerado denso se possuir uma qtde de arestas\n",
        "    # (tamanho) > 90% da qtde max de arestas.\n",
        "    # Calculo da quantidade máx de aresta: E = V² - V ou E = V * (V - 1).\n",
        "  def eh_denso(self):\n",
        "    if self.tamanho > self.get_max_arestas() * 0.9:\n",
        "      return True\n",
        "    else:\n",
        "      return False\n",
        "\n",
        "  def get_max_arestas(self):\n",
        "    return np.power(self.ordem, 2) - self.ordem\n",
        "\n",
        "  def adiciona_vertice(self):\n",
        "      # Cria uma nova matriz com uma linha e coluna extras, preenchida com infinito\n",
        "      nova_matriz = np.ones((self.ordem + 1, self.ordem + 1)) * np.inf\n",
        "\n",
        "      # Copia a matriz de adjacência existente para a nova matriz\n",
        "      nova_matriz[:self.ordem, :self.ordem] = self.matriz_adjacencia\n",
        "\n",
        "      # Atualiza a matriz de adjacência e a ordem\n",
        "      self.matriz_adjacencia = nova_matriz\n",
        "      self.ordem += 1\n"
      ],
      "metadata": {
        "id": "qXdpStjX5MCa"
      },
      "execution_count": 31,
      "outputs": []
    },
    {
      "cell_type": "code",
      "source": [
        "G = Grafo(5)\n",
        "G.adiciona_aresta(0, 1, 10)\n",
        "G.adiciona_aresta(0, 3, 33)\n",
        "G.adiciona_aresta(1, 2, 5)\n",
        "# print(G)\n",
        "G.adiciona_aresta(1, 2, 10)\n",
        "print(G)\n",
        "# G.remove_aresta(1, 2)\n",
        "print(G)\n",
        "print(G.grau(1))\n",
        "print(G.eh_denso())\n",
        "\n",
        "G.adiciona_vertice()\n",
        "print(G)\n"
      ],
      "metadata": {
        "colab": {
          "base_uri": "https://localhost:8080/"
        },
        "id": "A_2uCKv66gxY",
        "outputId": "17423113-5f79-4b81-835e-f385774d3961"
      },
      "execution_count": 32,
      "outputs": [
        {
          "output_type": "stream",
          "name": "stdout",
          "text": [
            "Matriz de Adjacências:\n",
            "0: [inf 10. inf 33. inf]\n",
            "1: [inf inf 10. inf inf]\n",
            "2: [inf inf inf inf inf]\n",
            "3: [inf inf inf inf inf]\n",
            "4: [inf inf inf inf inf]\n",
            "\n",
            "Matriz de Adjacências:\n",
            "0: [inf 10. inf 33. inf]\n",
            "1: [inf inf 10. inf inf]\n",
            "2: [inf inf inf inf inf]\n",
            "3: [inf inf inf inf inf]\n",
            "4: [inf inf inf inf inf]\n",
            "\n",
            "2\n",
            "False\n",
            "Matriz de Adjacências:\n",
            "0: [inf 10. inf 33. inf inf]\n",
            "1: [inf inf 10. inf inf inf]\n",
            "2: [inf inf inf inf inf inf]\n",
            "3: [inf inf inf inf inf inf]\n",
            "4: [inf inf inf inf inf inf]\n",
            "5: [inf inf inf inf inf inf]\n",
            "\n"
          ]
        }
      ]
    }
  ]
}